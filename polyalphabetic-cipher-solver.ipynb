{
 "cells": [
  {
   "cell_type": "code",
   "execution_count": 1,
   "metadata": {
    "collapsed": true
   },
   "outputs": [],
   "source": [
    "## ENCRYPTION: POLYALPHABETIC CIPHER ##\n",
    "# First Part: Encrypting a Message\n",
    "# Second Part: Decrypting a Message"
   ]
  },
  {
   "cell_type": "code",
   "execution_count": 2,
   "metadata": {
    "collapsed": false
   },
   "outputs": [],
   "source": [
    "shift_word = \"subtle\"\n",
    "message_to_encyrpt = \"\"\"i would like to encrypt this message so that no one can ever read it the longer the message the more likely we will be able to utilize frequency analysis a tool quite helpful for polyalphabetic ciphers unforutnately we do not fully include capitalized letters which add another twenty six opacity inducing characters let alone numbers\"\"\"\n",
    "encrypted_message = str()"
   ]
  },
  {
   "cell_type": "code",
   "execution_count": 3,
   "metadata": {
    "collapsed": false
   },
   "outputs": [
    {
     "name": "stdout",
     "output_type": "stream",
     "text": [
      "[18, 20, 1, 19, 11, 4]\n"
     ]
    }
   ],
   "source": [
    "import matplotlib.pyplot as plt\n",
    "import plotly.plotly as py\n",
    "import string\n",
    "shift_word_as_numbers = []\n",
    "for letter in shift_word:\n",
    "    shift_number = string.ascii_lowercase.index(letter)\n",
    "    shift_word_as_numbers.append(shift_number)\n",
    "print(shift_word_as_numbers)"
   ]
  },
  {
   "cell_type": "code",
   "execution_count": null,
   "metadata": {
    "collapsed": true
   },
   "outputs": [],
   "source": []
  },
  {
   "cell_type": "code",
   "execution_count": 4,
   "metadata": {
    "collapsed": true
   },
   "outputs": [],
   "source": [
    "english_alphabet = ['a', 'b', 'c', 'd', 'e', 'f', 'g', 'h', 'i', 'j', 'k', 'l', 'm', 'n', 'o', 'p', 'q', 'r', 's', \n",
    "                    't', 'u', 'v', 'w', 'x', 'y', 'z']"
   ]
  },
  {
   "cell_type": "code",
   "execution_count": 5,
   "metadata": {
    "collapsed": false
   },
   "outputs": [],
   "source": [
    "for i in range(0,len(message_to_encyrpt)):\n",
    "    unencrypted_letter = message_to_encyrpt[i]\n",
    "    if unencrypted_letter == \" \":\n",
    "        encrypted_letter = \" \"\n",
    "    else:\n",
    "        unencrypted_position = string.ascii_lowercase.index(unencrypted_letter)\n",
    "\n",
    "        shift = unencrypted_position + shift_word_as_numbers[i%len(shift_word_as_numbers)]\n",
    "        if shift > 25:\n",
    "            shift = shift - 26\n",
    "        encrypted_letter = english_alphabet[shift]\n",
    "    encrypted_message = encrypted_message + encrypted_letter"
   ]
  },
  {
   "cell_type": "code",
   "execution_count": 6,
   "metadata": {
    "collapsed": false
   },
   "outputs": [
    {
     "data": {
      "text/plain": [
       "'a xhfpv mbvi np prulzie lbjl qwmttri mp elsn gz ghf nef fopv lfto an msi fpgrij uap eytllkw uap eisx paefej oy ptpd cx etff es oubwmry yciiofgnc uotwckct l lipe umcux lwfqyfp zpk tgfztwtzucxemu dbalwlt frxisnersnfej oy wz fiu qydfz trufvwp uuqbeedcaxo dyumpvk xatgz bwo shpmsij upprls ltb iqtnmls byhmwjgr ubbklglysl pwn twsfy gfqtysl'"
      ]
     },
     "execution_count": 6,
     "metadata": {},
     "output_type": "execute_result"
    }
   ],
   "source": [
    "encrypted_message"
   ]
  },
  {
   "cell_type": "code",
   "execution_count": 7,
   "metadata": {
    "collapsed": false
   },
   "outputs": [
    {
     "name": "stdout",
     "output_type": "stream",
     "text": [
      "i would like to encrypt this message so that no one can ever read it the longer the message the more likely we will be able to utilize frequency analysis a tool quite helpful for polyalphabetic ciphers unforutnately we do not fully include capitalized letters which add another twenty six opacity inducing characters let alone numbers\n"
     ]
    }
   ],
   "source": [
    "\"\"\"This box assumes that we know the shift word. However if we do not know the shift word...use the next box\n",
    "\"\"\"\n",
    "decrypted_message = str()\n",
    "for j in range(0,len(encrypted_message)):\n",
    "    encrypted_letter = encrypted_message[j]\n",
    "    if encrypted_letter == \" \":\n",
    "        decrypted_letter = \" \"\n",
    "    else:\n",
    "        encrypted_position = string.ascii_lowercase.index(encrypted_letter)\n",
    "        encrypted_position = encrypted_position - shift_word_as_numbers[j%len(shift_word_as_numbers)]\n",
    "        \n",
    "        encrypted_letter = english_alphabet[encrypted_position]\n",
    "    decrypted_message = decrypted_message + encrypted_letter\n",
    "print(decrypted_message)"
   ]
  },
  {
   "cell_type": "code",
   "execution_count": 15,
   "metadata": {
    "collapsed": false
   },
   "outputs": [
    {
     "name": "stdout",
     "output_type": "stream",
     "text": [
      "Cipher word is longer than 2 characters\n",
      "Cipher word is longer than 3 characters\n",
      "Cipher word is longer than 4 characters\n",
      "Cipher word is longer than 5 characters\n",
      "Cipher word is longer than 6 characters\n",
      "Cipher word is longer than 7 characters\n",
      "Cipher word is longer than 8 characters\n",
      "Cipher word is longer than 9 characters\n",
      "Cipher word is longer than 10 characters\n",
      "Cipher word is longer than 11 characters\n",
      "Cipher word is longer than 12 characters\n",
      "Cipher word is longer than 13 characters\n",
      "Cipher word is longer than 14 characters\n",
      "Cipher word is longer than 15 characters\n",
      "Cipher word is longer than 16 characters\n",
      "Cipher word is longer than 17 characters\n",
      "Cipher word is longer than 18 characters\n",
      "Cipher word is longer than 19 characters\n",
      "Cipher word is longer than 20 characters\n",
      "Cipher word is longer than 21 characters\n",
      "Cipher word is longer than 22 characters\n",
      "Cipher word is longer than 23 characters\n",
      "Cipher word is longer than 24 characters\n",
      "Cipher word is longer than 25 characters\n",
      "Cipher word is longer than 26 characters\n",
      "Cipher word is longer than 27 characters\n",
      "Cipher word is longer than 28 characters\n",
      "Cipher word is longer than 29 characters\n",
      "Cipher word is longer than 30 characters\n",
      "Cipher word is longer than 31 characters\n",
      "Cipher word is longer than 32 characters\n",
      "Cipher word is longer than 33 characters\n",
      "Cipher word is longer than 34 characters\n",
      "Cipher word is longer than 35 characters\n",
      "Cipher word is longer than 36 characters\n",
      "Cipher word is longer than 37 characters\n",
      "Cipher word is longer than 38 characters\n",
      "Cipher word is longer than 39 characters\n",
      "Cipher word is longer than 40 characters\n",
      "Cipher word is longer than 41 characters\n",
      "Cipher word is longer than 42 characters\n",
      "Cipher word is longer than 43 characters\n",
      "Cipher word is longer than 44 characters\n",
      "Cipher word is longer than 45 characters\n",
      "Cipher word is longer than 46 characters\n",
      "Cipher word is longer than 47 characters\n",
      "Cipher word is longer than 48 characters\n",
      "Cipher word is longer than 49 characters\n",
      "Cipher word is longer than 50 characters\n",
      "Cipher word is longer than 51 characters\n",
      "Cipher word is longer than 52 characters\n",
      "Cipher word is longer than 53 characters\n",
      "Cipher word is longer than 54 characters\n",
      "Cipher word is longer than 55 characters\n",
      "Cipher word is longer than 56 characters\n",
      "Cipher word is longer than 57 characters\n",
      "Cipher word is longer than 58 characters\n",
      "Cipher word is longer than 59 characters\n",
      "Cipher word is longer than 60 characters\n",
      "Cipher word is longer than 61 characters\n",
      "Cipher word is longer than 62 characters\n",
      "Cipher word is longer than 63 characters\n",
      "Cipher word is longer than 64 characters\n",
      "Cipher word is longer than 65 characters\n",
      "Cipher word is longer than 66 characters\n",
      "Cipher word is longer than 67 characters\n",
      "Cipher word is longer than 68 characters\n",
      "Cipher word is longer than 69 characters\n",
      "Cipher word is longer than 70 characters\n",
      "Cipher word is longer than 71 characters\n",
      "Cipher word is longer than 72 characters\n",
      "Cipher word is longer than 73 characters\n",
      "Cipher word is longer than 74 characters\n",
      "Cipher word is longer than 75 characters\n",
      "Cipher word is longer than 76 characters\n",
      "Cipher word is longer than 77 characters\n",
      "Cipher word is longer than 78 characters\n",
      "Cipher word is longer than 79 characters\n",
      "Cipher word is longer than 80 characters\n",
      "Cipher word is longer than 81 characters\n",
      "Cipher word is longer than 82 characters\n",
      "Cipher word is longer than 83 characters\n",
      "Cipher word is longer than 84 characters\n",
      "Cipher word is longer than 85 characters\n",
      "Cipher word is longer than 86 characters\n",
      "Cipher word is longer than 87 characters\n",
      "Cipher word is longer than 88 characters\n",
      "Cipher word is longer than 89 characters\n",
      "Cipher word is longer than 90 characters\n",
      "Cipher word is longer than 91 characters\n",
      "Cipher word is longer than 92 characters\n",
      "Cipher word is longer than 93 characters\n",
      "Cipher word is longer than 94 characters\n",
      "Cipher word is longer than 95 characters\n",
      "Cipher word is longer than 96 characters\n",
      "Cipher word is longer than 97 characters\n",
      "Cipher word is longer than 98 characters\n",
      "Cipher word is longer than 99 characters\n",
      "Cipher word is longer than 100 characters\n",
      "Cipher word is longer than 101 characters\n",
      "Cipher word is longer than 102 characters\n",
      "Cipher word is longer than 103 characters\n",
      "Cipher word is longer than 104 characters\n",
      "Cipher word is longer than 105 characters\n",
      "Cipher word is longer than 106 characters\n",
      "Cipher word is longer than 107 characters\n",
      "Cipher word is longer than 108 characters\n",
      "Cipher word is longer than 109 characters\n",
      "Cipher word is longer than 110 characters\n",
      "Cipher word is longer than 111 characters\n",
      "Cipher word is longer than 112 characters\n",
      "Cipher word is longer than 113 characters\n",
      "Cipher word is longer than 114 characters\n",
      "Cipher word is longer than 115 characters\n",
      "Cipher word is longer than 116 characters\n",
      "Cipher word is longer than 117 characters\n",
      "Cipher word is longer than 118 characters\n",
      "Cipher word is longer than 119 characters\n",
      "Cipher word is longer than 120 characters\n",
      "Cipher word is longer than 121 characters\n",
      "Cipher word is longer than 122 characters\n",
      "Cipher word is longer than 123 characters\n",
      "Cipher word is longer than 124 characters\n",
      "Cipher word is longer than 125 characters\n",
      "Cipher word is longer than 126 characters\n",
      "Cipher word is longer than 127 characters\n",
      "Cipher word is longer than 128 characters\n",
      "Equilibrium reached: cipher word likely to be 129 characters\n"
     ]
    }
   ],
   "source": [
    "\"\"\" This box does not assume that you know the shift world. The first step is to identify the length of the \n",
    "shift word through frequency analysis. Once the user has selected a shift word length, you then solve that \n",
    "many separate caeser ciphers.\"\"\"\n",
    "\n",
    "import collections\n",
    "letters = collections.Counter('google')\n",
    "\n",
    "encrypted_msg_no_spaces = encrypted_message.replace(\" \",\"\")\n",
    "\n",
    "\"\"\"I don't actually need to test every single distribution of each cipher. I really only need to test one and if THAT\n",
    "one matches well then I know the others will too...then I'm done?\"\"\"\n",
    "# while correct = False:\n",
    "current_shift_word_length = 2\n",
    "current_distribution = (collections.Counter(encrypted_msg_no_spaces[::current_shift_word_length]))\n",
    "while not max(current_distribution)==\"e\":\n",
    "    current_distribution = (collections.Counter(encrypted_msg_no_spaces[::current_shift_word_length]))\n",
    "    print(\"Cipher word is longer than\",str(current_shift_word_length),\"characters\")\n",
    "    current_shift_word_length += 1\n",
    "print(\"Equilibrium reached: cipher word likely to be\",current_shift_word_length,\"characters\")\n",
    "# plt.bar(range(len(current_distribution)), current_distribution.values(), align='center')\n",
    "# plt.xticks(range(len(current_distribution)), current_distribution.keys())\n",
    "# plt.show()\n",
    "\n",
    "    \n",
    "    # Shift encrypted phrase by one letter\n",
    "    #unencrypted_letter = message_to_encyrpt[i]\n",
    "    #if unencrypted_letter == \" \":\n",
    "    #    encrypted_letter = \" \"\n",
    "    #else:\n",
    "    #    unencrypted_position = string.ascii_lowercase.index(unencrypted_letter)\n",
    "\n",
    "    #    shift = unencrypted_position + current_shift_word_length\n",
    "    #    if shift > 25:\n",
    "    #        shift = shift - 26\n",
    "    #    encrypted_letter = english_alphabet[shift]\n",
    "    #encrypted_message = encrypted_message + encrypted_letter\n",
    "    # \n",
    "    #current_distribution = collections.Counter(encrypted_message)\n",
    "    #print(current_distribution)\n",
    "    \n",
    "    #correct = input(\"Is this distribution correct? ('T' or 'F')\")\n",
    "    #if correct == 'F':\n",
    "    #    current_shift_word_length = current_shift_word_length + 1\n",
    "    #correct = 'T'\n",
    "# Once the length of the shift word is solved, simply use the Caesar Shift method to solve n many separate shifts\n",
    "# Once all shifts are determined (ex: shifts = [18, 20, 1, 19, 11, 4]), convert to shift word (ex: 'subtle')"
   ]
  },
  {
   "cell_type": "code",
   "execution_count": 12,
   "metadata": {
    "collapsed": false
   },
   "outputs": [
    {
     "data": {
      "text/plain": [
       "True"
      ]
     },
     "execution_count": 12,
     "metadata": {},
     "output_type": "execute_result"
    }
   ],
   "source": [
    "max(current_distribution)==\"z\""
   ]
  },
  {
   "cell_type": "code",
   "execution_count": null,
   "metadata": {
    "collapsed": false
   },
   "outputs": [],
   "source": [
    "min(current_distribution)"
   ]
  },
  {
   "cell_type": "code",
   "execution_count": 19,
   "metadata": {
    "collapsed": false
   },
   "outputs": [
    {
     "data": {
      "text/plain": [
       "25"
      ]
     },
     "execution_count": 19,
     "metadata": {},
     "output_type": "execute_result"
    }
   ],
   "source": [
    "129%26"
   ]
  },
  {
   "cell_type": "code",
   "execution_count": null,
   "metadata": {
    "collapsed": true
   },
   "outputs": [],
   "source": []
  }
 ],
 "metadata": {
  "kernelspec": {
   "display_name": "Python 3",
   "language": "python",
   "name": "python3"
  },
  "language_info": {
   "codemirror_mode": {
    "name": "ipython",
    "version": 3
   },
   "file_extension": ".py",
   "mimetype": "text/x-python",
   "name": "python",
   "nbconvert_exporter": "python",
   "pygments_lexer": "ipython3",
   "version": "3.5.2"
  }
 },
 "nbformat": 4,
 "nbformat_minor": 1
}
