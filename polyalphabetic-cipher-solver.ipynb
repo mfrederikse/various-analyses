{
 "cells": [
  {
   "cell_type": "code",
   "execution_count": 46,
   "metadata": {
    "collapsed": true
   },
   "outputs": [],
   "source": [
    "## ENCRYPTION: POLYALPHABETIC CIPHER ##\n",
    "# First Part: Encrypting a Message\n",
    "# Second Part: Decrypting a Message"
   ]
  },
  {
   "cell_type": "code",
   "execution_count": 47,
   "metadata": {
    "collapsed": false
   },
   "outputs": [],
   "source": [
    "shift_word = \"subtle\"\n",
    "message_to_encyrpt = \"\"\"i would like to encrypt this message so that no one can ever read it the longer the message the more likely we will be able to utilize frequency analysis a tool quite helpful for polyalphabetic ciphers unforutnately we do not fully include capitalized letters which add another twenty six opacity inducing characters let alone numbers\"\"\"\n",
    "encrypted_message = str()"
   ]
  },
  {
   "cell_type": "code",
   "execution_count": 48,
   "metadata": {
    "collapsed": false
   },
   "outputs": [
    {
     "name": "stdout",
     "output_type": "stream",
     "text": [
      "[18, 20, 1, 19, 11, 4]\n"
     ]
    }
   ],
   "source": [
    "import matplotlib.pyplot as plt\n",
    "import plotly.plotly as py\n",
    "import string\n",
    "shift_word_as_numbers = []\n",
    "for letter in shift_word:\n",
    "    shift_number = string.ascii_lowercase.index(letter)\n",
    "    shift_word_as_numbers.append(shift_number)\n",
    "print(shift_word_as_numbers)"
   ]
  },
  {
   "cell_type": "code",
   "execution_count": null,
   "metadata": {
    "collapsed": true
   },
   "outputs": [],
   "source": []
  },
  {
   "cell_type": "code",
   "execution_count": 49,
   "metadata": {
    "collapsed": true
   },
   "outputs": [],
   "source": [
    "english_alphabet = ['a', 'b', 'c', 'd', 'e', 'f', 'g', 'h', 'i', 'j', 'k', 'l', 'm', 'n', 'o', 'p', 'q', 'r', 's', \n",
    "                    't', 'u', 'v', 'w', 'x', 'y', 'z']"
   ]
  },
  {
   "cell_type": "code",
   "execution_count": 50,
   "metadata": {
    "collapsed": false
   },
   "outputs": [],
   "source": [
    "for i in range(0,len(message_to_encyrpt)):\n",
    "    unencrypted_letter = message_to_encyrpt[i]\n",
    "    if unencrypted_letter == \" \":\n",
    "        encrypted_letter = \" \"\n",
    "    else:\n",
    "        unencrypted_position = string.ascii_lowercase.index(unencrypted_letter)\n",
    "\n",
    "        shift = unencrypted_position + shift_word_as_numbers[i%len(shift_word_as_numbers)]\n",
    "        if shift > 25:\n",
    "            shift = shift - 26\n",
    "        encrypted_letter = english_alphabet[shift]\n",
    "    encrypted_message = encrypted_message + encrypted_letter"
   ]
  },
  {
   "cell_type": "code",
   "execution_count": 51,
   "metadata": {
    "collapsed": false
   },
   "outputs": [
    {
     "data": {
      "text/plain": [
       "'a xhfpv mbvi np prulzie lbjl qwmttri mp elsn gz ghf nef fopv lfto an msi fpgrij uap eytllkw uap eisx paefej oy ptpd cx etff es oubwmry yciiofgnc uotwckct l lipe umcux lwfqyfp zpk tgfztwtzucxemu dbalwlt frxisnersnfej oy wz fiu qydfz trufvwp uuqbeedcaxo dyumpvk xatgz bwo shpmsij upprls ltb iqtnmls byhmwjgr ubbklglysl pwn twsfy gfqtysl'"
      ]
     },
     "execution_count": 51,
     "metadata": {},
     "output_type": "execute_result"
    }
   ],
   "source": [
    "encrypted_message"
   ]
  },
  {
   "cell_type": "code",
   "execution_count": 52,
   "metadata": {
    "collapsed": false
   },
   "outputs": [
    {
     "name": "stdout",
     "output_type": "stream",
     "text": [
      "i would like to encrypt this message so that no one can ever read it the longer the message the more likely we will be able to utilize frequency analysis a tool quite helpful for polyalphabetic ciphers unforutnately we do not fully include capitalized letters which add another twenty six opacity inducing characters let alone numbers\n"
     ]
    }
   ],
   "source": [
    "\"\"\"This box assumes that we know the shift word. However if we do not know the shift word...use the next box\n",
    "\"\"\"\n",
    "decrypted_message = str()\n",
    "for j in range(0,len(encrypted_message)):\n",
    "    encrypted_letter = encrypted_message[j]\n",
    "    if encrypted_letter == \" \":\n",
    "        decrypted_letter = \" \"\n",
    "    else:\n",
    "        encrypted_position = string.ascii_lowercase.index(encrypted_letter)\n",
    "        encrypted_position = encrypted_position - shift_word_as_numbers[j%len(shift_word_as_numbers)]\n",
    "        \n",
    "        encrypted_letter = english_alphabet[encrypted_position]\n",
    "    decrypted_message = decrypted_message + encrypted_letter\n",
    "print(decrypted_message)"
   ]
  },
  {
   "cell_type": "code",
   "execution_count": 65,
   "metadata": {
    "collapsed": false
   },
   "outputs": [],
   "source": [
    "\"\"\" This box does not assume that you know the shift world. The first step is to identify the length of the \n",
    "shift word through frequency analysis. Once the user has selected a shift word length, you then solve that \n",
    "many separate caeser ciphers.\"\"\"\n",
    "\n",
    "import collections\n",
    "letters = collections.Counter('google')\n",
    "\n",
    "encrypted_msg_no_spaces = encrypted_message.replace(\" \",\"\")\n",
    "\n",
    "\"\"\"I don't actually need to test every single distribution of each cipher. I really only need to test one and if THAT\n",
    "one matches well then I know the others will too...then I'm done?\"\"\"\n",
    "# while correct = False:\n",
    "current_shift_word_length = 2\n",
    "current_distribution = (collections.Counter(encrypted_msg_no_spaces[::current_shift_word_length]))\n",
    "if \n",
    "# plt.bar(range(len(current_distribution)), current_distribution.values(), align='center')\n",
    "# plt.xticks(range(len(current_distribution)), current_distribution.keys())\n",
    "# plt.show()\n",
    "\n",
    "    \n",
    "    # Shift encrypted phrase by one letter\n",
    "    #unencrypted_letter = message_to_encyrpt[i]\n",
    "    #if unencrypted_letter == \" \":\n",
    "    #    encrypted_letter = \" \"\n",
    "    #else:\n",
    "    #    unencrypted_position = string.ascii_lowercase.index(unencrypted_letter)\n",
    "\n",
    "    #    shift = unencrypted_position + current_shift_word_length\n",
    "    #    if shift > 25:\n",
    "    #        shift = shift - 26\n",
    "    #    encrypted_letter = english_alphabet[shift]\n",
    "    #encrypted_message = encrypted_message + encrypted_letter\n",
    "    # \n",
    "    #current_distribution = collections.Counter(encrypted_message)\n",
    "    #print(current_distribution)\n",
    "    \n",
    "    #correct = input(\"Is this distribution correct? ('T' or 'F')\")\n",
    "    #if correct == 'F':\n",
    "    #    current_shift_word_length = current_shift_word_length + 1\n",
    "    #correct = 'T'\n",
    "# Once the length of the shift word is solved, simply use the Caesar Shift method to solve n many separate shifts\n",
    "# Once all shifts are determined (ex: shifts = [18, 20, 1, 19, 11, 4]), convert to shift word (ex: 'subtle')"
   ]
  },
  {
   "cell_type": "code",
   "execution_count": 67,
   "metadata": {
    "collapsed": false
   },
   "outputs": [
    {
     "data": {
      "text/plain": [
       "'z'"
      ]
     },
     "execution_count": 67,
     "metadata": {},
     "output_type": "execute_result"
    }
   ],
   "source": [
    "max(current_distribution)"
   ]
  },
  {
   "cell_type": "code",
   "execution_count": 69,
   "metadata": {
    "collapsed": false
   },
   "outputs": [
    {
     "data": {
      "text/plain": [
       "'a'"
      ]
     },
     "execution_count": 69,
     "metadata": {},
     "output_type": "execute_result"
    }
   ],
   "source": [
    "min(current_distribution)"
   ]
  },
  {
   "cell_type": "code",
   "execution_count": null,
   "metadata": {
    "collapsed": true
   },
   "outputs": [],
   "source": []
  }
 ],
 "metadata": {
  "kernelspec": {
   "display_name": "Python 3",
   "language": "python",
   "name": "python3"
  },
  "language_info": {
   "codemirror_mode": {
    "name": "ipython",
    "version": 3
   },
   "file_extension": ".py",
   "mimetype": "text/x-python",
   "name": "python",
   "nbconvert_exporter": "python",
   "pygments_lexer": "ipython3",
   "version": "3.5.2"
  }
 },
 "nbformat": 4,
 "nbformat_minor": 1
}
