{
 "cells": [
  {
   "cell_type": "code",
   "execution_count": 4,
   "metadata": {
    "collapsed": true
   },
   "outputs": [],
   "source": [
    "## ENCRYPTION: POLYALPHABETIC CIPHER ##\n",
    "# First Part: Encrypting a Message\n",
    "# Second Part: Decrypting a Message"
   ]
  },
  {
   "cell_type": "code",
   "execution_count": 64,
   "metadata": {
    "collapsed": true
   },
   "outputs": [],
   "source": [
    "shift_word = \"subtle\"\n",
    "message_to_encyrpt = \"i would like to encrypt this message so that no one can ever read it\"\n",
    "encrypted_message = str()"
   ]
  },
  {
   "cell_type": "code",
   "execution_count": 65,
   "metadata": {
    "collapsed": false
   },
   "outputs": [
    {
     "name": "stdout",
     "output_type": "stream",
     "text": [
      "[18, 20, 1, 19, 11, 4]\n"
     ]
    }
   ],
   "source": [
    "import string\n",
    "shift_word_as_numbers = []\n",
    "for letter in shift_word:\n",
    "    shift_number = string.ascii_lowercase.index(letter)\n",
    "    shift_word_as_numbers.append(shift_number)\n",
    "print(shift_word_as_numbers)"
   ]
  },
  {
   "cell_type": "code",
   "execution_count": 66,
   "metadata": {
    "collapsed": true
   },
   "outputs": [],
   "source": [
    "english_alphabet = ['a', 'b', 'c', 'd', 'e', 'f', 'g', 'h', 'i', 'j', 'k', 'l', 'm', 'n', 'o', 'p', 'q', 'r', 's', \n",
    "                    't', 'u', 'v', 'w', 'x', 'y', 'z']"
   ]
  },
  {
   "cell_type": "code",
   "execution_count": 67,
   "metadata": {
    "collapsed": false
   },
   "outputs": [],
   "source": [
    "for i in range(0,len(message_to_encyrpt)):\n",
    "    unencrypted_letter = message_to_encyrpt[i]\n",
    "    if unencrypted_letter == \" \":\n",
    "        encrypted_letter = \" \"\n",
    "    else:\n",
    "        unencrypted_position = string.ascii_lowercase.index(unencrypted_letter)\n",
    "\n",
    "        shift = unencrypted_position + shift_word_as_numbers[i%len(shift_word_as_numbers)]\n",
    "        if shift > 25:\n",
    "            shift = shift - 26\n",
    "        encrypted_letter = english_alphabet[shift]\n",
    "    encrypted_message = encrypted_message + encrypted_letter"
   ]
  },
  {
   "cell_type": "code",
   "execution_count": 68,
   "metadata": {
    "collapsed": false
   },
   "outputs": [
    {
     "data": {
      "text/plain": [
       "'a xhfpv mbvi np prulzie lbjl qwmttri mp elsn gz ghf nef fopv lfto an'"
      ]
     },
     "execution_count": 68,
     "metadata": {},
     "output_type": "execute_result"
    }
   ],
   "source": [
    "encrypted_message"
   ]
  },
  {
   "cell_type": "code",
   "execution_count": 71,
   "metadata": {
    "collapsed": false
   },
   "outputs": [
    {
     "name": "stdout",
     "output_type": "stream",
     "text": [
      "0 23751521 121218 1315 151720112584 111911 1622121919178 1215 4111813 625 675 1345 5141521 1151914 013\n"
     ]
    }
   ],
   "source": [
    "decrypted_message = str()\n",
    "for j in range(0,len(encrypted_message)):\n",
    "    encrypted_letter = encrypted_message[j]\n",
    "    if encrypted_letter == \" \":\n",
    "        decrypted_letter = \" \"\n",
    "    else:\n",
    "        encrypted_position = string.ascii_lowercase.index(encrypted_letter)\n",
    "        encrypted_letter = str(encrypted_position)\n",
    "    decrypted_message = decrypted_message + encrypted_letter\n",
    "print(decrypted_message)"
   ]
  },
  {
   "cell_type": "code",
   "execution_count": 73,
   "metadata": {
    "collapsed": false
   },
   "outputs": [
    {
     "data": {
      "text/plain": [
       "6"
      ]
     },
     "execution_count": 73,
     "metadata": {},
     "output_type": "execute_result"
    }
   ],
   "source": [
    "len(shift_word_as_numbers)"
   ]
  },
  {
   "cell_type": "code",
   "execution_count": null,
   "metadata": {
    "collapsed": true
   },
   "outputs": [],
   "source": [
    "a -> i\n",
    "0 -> 8"
   ]
  }
 ],
 "metadata": {
  "kernelspec": {
   "display_name": "Python 3",
   "language": "python",
   "name": "python3"
  },
  "language_info": {
   "codemirror_mode": {
    "name": "ipython",
    "version": 3
   },
   "file_extension": ".py",
   "mimetype": "text/x-python",
   "name": "python",
   "nbconvert_exporter": "python",
   "pygments_lexer": "ipython3",
   "version": "3.5.2"
  }
 },
 "nbformat": 4,
 "nbformat_minor": 1
}
