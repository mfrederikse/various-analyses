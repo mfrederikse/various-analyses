{
 "cells": [
  {
   "cell_type": "code",
   "execution_count": 2,
   "metadata": {
    "collapsed": true
   },
   "outputs": [],
   "source": [
    "## ENCRYPTION: POLYALPHABETIC CIPHER ##\n",
    "# First Part: Encrypting a Message\n",
    "# Second Part: Decrypting a Message"
   ]
  },
  {
   "cell_type": "code",
   "execution_count": 3,
   "metadata": {
    "collapsed": true
   },
   "outputs": [],
   "source": [
    "shift_word = \"subtle\"\n",
    "message_to_encyrpt = \"i would like to encrypt this message so that no one can ever read it\"\n",
    "encrypted_message = str()"
   ]
  },
  {
   "cell_type": "code",
   "execution_count": 4,
   "metadata": {
    "collapsed": false
   },
   "outputs": [
    {
     "name": "stdout",
     "output_type": "stream",
     "text": [
      "[18, 20, 1, 19, 11, 4]\n"
     ]
    }
   ],
   "source": [
    "import string\n",
    "shift_word_as_numbers = []\n",
    "for letter in shift_word:\n",
    "    shift_number = string.ascii_lowercase.index(letter)\n",
    "    shift_word_as_numbers.append(shift_number)\n",
    "print(shift_word_as_numbers)"
   ]
  },
  {
   "cell_type": "code",
   "execution_count": 5,
   "metadata": {
    "collapsed": true
   },
   "outputs": [],
   "source": [
    "english_alphabet = ['a', 'b', 'c', 'd', 'e', 'f', 'g', 'h', 'i', 'j', 'k', 'l', 'm', 'n', 'o', 'p', 'q', 'r', 's', \n",
    "                    't', 'u', 'v', 'w', 'x', 'y', 'z']"
   ]
  },
  {
   "cell_type": "code",
   "execution_count": 6,
   "metadata": {
    "collapsed": false
   },
   "outputs": [],
   "source": [
    "for i in range(0,len(message_to_encyrpt)):\n",
    "    unencrypted_letter = message_to_encyrpt[i]\n",
    "    if unencrypted_letter == \" \":\n",
    "        encrypted_letter = \" \"\n",
    "    else:\n",
    "        unencrypted_position = string.ascii_lowercase.index(unencrypted_letter)\n",
    "\n",
    "        shift = unencrypted_position + shift_word_as_numbers[i%len(shift_word_as_numbers)]\n",
    "        if shift > 25:\n",
    "            shift = shift - 26\n",
    "        encrypted_letter = english_alphabet[shift]\n",
    "    encrypted_message = encrypted_message + encrypted_letter"
   ]
  },
  {
   "cell_type": "code",
   "execution_count": 7,
   "metadata": {
    "collapsed": false
   },
   "outputs": [
    {
     "data": {
      "text/plain": [
       "'a xhfpv mbvi np prulzie lbjl qwmttri mp elsn gz ghf nef fopv lfto an'"
      ]
     },
     "execution_count": 7,
     "metadata": {},
     "output_type": "execute_result"
    }
   ],
   "source": [
    "encrypted_message"
   ]
  },
  {
   "cell_type": "code",
   "execution_count": 8,
   "metadata": {
    "collapsed": false
   },
   "outputs": [
    {
     "name": "stdout",
     "output_type": "stream",
     "text": [
      "0 23751521 121218 1315 151720112584 111911 1622121919178 1215 4111813 625 675 1345 5141521 1151914 013\n"
     ]
    }
   ],
   "source": [
    "# This box assumes that we know the shift word. However if we do not know the shift word...use the next box\n",
    "decrypted_message = str()\n",
    "for j in range(0,len(encrypted_message)):\n",
    "    encrypted_letter = encrypted_message[j]\n",
    "    if encrypted_letter == \" \":\n",
    "        decrypted_letter = \" \"\n",
    "    else:\n",
    "        encrypted_position = string.ascii_lowercase.index(encrypted_letter)\n",
    "        encrypted_letter = str(encrypted_position)\n",
    "    decrypted_message = decrypted_message + encrypted_letter\n",
    "print(decrypted_message)"
   ]
  },
  {
   "cell_type": "code",
   "execution_count": 9,
   "metadata": {
    "collapsed": false
   },
   "outputs": [
    {
     "data": {
      "text/plain": [
       "6"
      ]
     },
     "execution_count": 9,
     "metadata": {},
     "output_type": "execute_result"
    }
   ],
   "source": [
    "len(shift_word_as_numbers)"
   ]
  },
  {
   "cell_type": "code",
   "execution_count": 10,
   "metadata": {
    "collapsed": false
   },
   "outputs": [
    {
     "ename": "SyntaxError",
     "evalue": "invalid syntax (<ipython-input-10-41d84c9a1e0a>, line 1)",
     "output_type": "error",
     "traceback": [
      "\u001b[0;36m  File \u001b[0;32m\"<ipython-input-10-41d84c9a1e0a>\"\u001b[0;36m, line \u001b[0;32m1\u001b[0m\n\u001b[0;31m    a -> i\u001b[0m\n\u001b[0m       ^\u001b[0m\n\u001b[0;31mSyntaxError\u001b[0m\u001b[0;31m:\u001b[0m invalid syntax\n"
     ]
    }
   ],
   "source": [
    "a -> i\n",
    "0 -> 8"
   ]
  },
  {
   "cell_type": "code",
   "execution_count": 15,
   "metadata": {
    "collapsed": false
   },
   "outputs": [
    {
     "ename": "NameError",
     "evalue": "name 'raw_input' is not defined",
     "output_type": "error",
     "traceback": [
      "\u001b[0;31m---------------------------------------------------------------------------\u001b[0m",
      "\u001b[0;31mNameError\u001b[0m                                 Traceback (most recent call last)",
      "\u001b[0;32m<ipython-input-15-f93549d671ae>\u001b[0m in \u001b[0;36m<module>\u001b[0;34m()\u001b[0m\n\u001b[1;32m      4\u001b[0m     \u001b[0;31m# find frequency distribution\u001b[0m\u001b[0;34m\u001b[0m\u001b[0;34m\u001b[0m\u001b[0m\n\u001b[1;32m      5\u001b[0m \u001b[0;34m\u001b[0m\u001b[0m\n\u001b[0;32m----> 6\u001b[0;31m     \u001b[0mcorrect\u001b[0m \u001b[0;34m=\u001b[0m \u001b[0mraw_input\u001b[0m\u001b[0;34m(\u001b[0m\u001b[0;34m\"Is this distribution correct? ('T' or 'F')\"\u001b[0m\u001b[0;34m)\u001b[0m\u001b[0;34m\u001b[0m\u001b[0m\n\u001b[0m\u001b[1;32m      7\u001b[0m     \u001b[0;32mif\u001b[0m \u001b[0mcorrect\u001b[0m \u001b[0;34m==\u001b[0m \u001b[0;34m'F'\u001b[0m\u001b[0;34m:\u001b[0m\u001b[0;34m\u001b[0m\u001b[0m\n\u001b[1;32m      8\u001b[0m         \u001b[0mcurrent_shift_word_length\u001b[0m \u001b[0;34m+=\u001b[0m \u001b[0;36m1\u001b[0m\u001b[0;34m\u001b[0m\u001b[0m\n",
      "\u001b[0;31mNameError\u001b[0m: name 'raw_input' is not defined"
     ]
    }
   ],
   "source": [
    "correct = 'F'\n",
    "while correct == 'F':\n",
    "    current_shift_word_length = 1\n",
    "    # find frequency distribution\n",
    "    \n",
    "    correct = input(\"Is this distribution correct? ('T' or 'F')\")\n",
    "    if correct == 'F':\n",
    "        current_shift_word_length += 1\n",
    "\n",
    "# Once the length of the shift word is solved, simply use the Caesar Shift method to solve n many separate shifts\n",
    "# Once all shifts are determined (ex: shifts = [18, 20, 1, 19, 11, 4]), convert to shift word (ex: 'subtle')"
   ]
  },
  {
   "cell_type": "code",
   "execution_count": null,
   "metadata": {
    "collapsed": true
   },
   "outputs": [],
   "source": []
  }
 ],
 "metadata": {
  "kernelspec": {
   "display_name": "Python 3",
   "language": "python",
   "name": "python3"
  },
  "language_info": {
   "codemirror_mode": {
    "name": "ipython",
    "version": 3
   },
   "file_extension": ".py",
   "mimetype": "text/x-python",
   "name": "python",
   "nbconvert_exporter": "python",
   "pygments_lexer": "ipython3",
   "version": "3.5.2"
  }
 },
 "nbformat": 4,
 "nbformat_minor": 1
}
