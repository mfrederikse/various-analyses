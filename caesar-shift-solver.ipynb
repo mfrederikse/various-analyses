{
 "cells": [
  {
   "cell_type": "code",
   "execution_count": 1,
   "metadata": {
    "collapsed": true
   },
   "outputs": [],
   "source": [
    "## ENCRYPTION: CAESAR SHIFT SOLVER ##"
   ]
  },
  {
   "cell_type": "code",
   "execution_count": 8,
   "metadata": {
    "collapsed": true
   },
   "outputs": [],
   "source": [
    "initial_text = 'gluhtlishjrvbadvyyplkaohavbyjpwolypzavvdlhrvuuleatlzzhnlzdpajoavcpnlulyljpwolyrlfdvykpzaolopkkluzftivsvmklhaoputfmhcvypalovsilpuluk'"
   ]
  },
  {
   "cell_type": "code",
   "execution_count": 9,
   "metadata": {
    "collapsed": false
   },
   "outputs": [],
   "source": [
    "english_alphabet = ['a', 'b', 'c', 'd', 'e', 'f', 'g', 'h', 'i', 'j', 'k', 'l', 'm', 'n', 'o', 'p', 'q', 'r', 's', \n",
    "                    't', 'u', 'v', 'w', 'x', 'y', 'z']\n",
    "import string"
   ]
  },
  {
   "cell_type": "code",
   "execution_count": 70,
   "metadata": {
    "collapsed": false
   },
   "outputs": [
    {
     "name": "stdout",
     "output_type": "stream",
     "text": [
      "Attempting Caesar Shift of:  1  of 26\n",
      "hmviumjtikswcbewzzqmlbpibwczkqxpmzqabwwemiswvvmfbumaaiomaeqbkpbwdqomvmzmkqxpmzsmgewzlqabpmpqllmvagujwtwnlmibpqvugnidwzqbmpwtjmqvmv\n",
      "Attempting Caesar Shift of:  2  of 26\n",
      "inwjvnkujltxdcfxaarnmcqjcxdalryqnarbcxxfnjtxwwngcvnbbjpnbfrclqcxerpnwnanlryqnatnhfxamrbcqnqrmmnwbhvkxuxomnjcqrwvhojexarcnqxuknrwnw\n",
      "Attempting Caesar Shift of:  3  of 26\n",
      "joxkwolvkmuyedgybbsondrkdyebmszrobscdyygokuyxxohdwocckqocgsdmrdyfsqoxobomszrobuoigybnscdrorsnnoxciwlyvypnokdrsxwipkfybsdoryvlosxox\n",
      "Attempting Caesar Shift of:  4  of 26\n",
      "kpylxpmwlnvzfehzcctpoeslezfcntaspctdezzhplvzyypiexpddlrpdhtensezgtrpypcpntaspcvpjhzcotdespstoopydjxmzwzqoplestyxjqlgzctepszwmptypy\n",
      "Attempting Caesar Shift of:  5  of 26\n",
      "lqzmyqnxmowagfiadduqpftmfagdoubtqduefaaiqmwazzqjfyqeemsqeiufotfahusqzqdqoubtqdwqkiadpueftqtuppqzekynaxarpqmftuzykrmhadufqtaxnquzqz\n",
      "Attempting Caesar Shift of:  6  of 26\n",
      "mranzroynpxbhgjbeevrqgungbhepvcurevfgbbjrnxbaarkgzrffntrfjvgpugbivtrarerpvcurexrljbeqvfguruvqqraflzobybsqrnguvazlsnibevgrubyorvara\n",
      "Attempting Caesar Shift of:  7  of 26\n",
      "nsboaspzoqycihkcffwsrhvohcifqwdvsfwghccksoycbbslhasggousgkwhqvhcjwusbsfsqwdvsfysmkcfrwghvsvwrrsbgmapczctrsohvwbamtojcfwhsvczpswbsb\n",
      "Attempting Caesar Shift of:  8  of 26\n",
      "otcpbtqaprzdjildggxtsiwpidjgrxewtgxhiddltpzdcctmibthhpvthlxirwidkxvtctgtrxewtgztnldgsxhiwtwxsstchnbqdadustpiwxcbnupkdgxitwdaqtxctc\n",
      "Attempting Caesar Shift of:  9  of 26\n",
      "pudqcurbqsaekjmehhyutjxqjekhsyfxuhyijeemuqaeddunjcuiiqwuimyjsxjelywuduhusyfxuhauomehtyijxuxyttudiocrebevtuqjxydcovqlehyjuxebruydud\n",
      "Attempting Caesar Shift of:  10  of 26\n",
      "qverdvscrtbflknfiizvukyrkflitzgyvizjkffnvrbfeevokdvjjrxvjnzktykfmzxvevivtzgyvibvpnfiuzjkyvyzuuvejpdsfcfwuvrkyzedpwrmfizkvyfcsvzeve\n",
      "Attempting Caesar Shift of:  11  of 26\n",
      "rwfsewtdsucgmlogjjawvlzslgmjuahzwjaklggowscgffwplewkksywkoaluzlgnaywfwjwuahzwjcwqogjvaklzwzavvwfkqetgdgxvwslzafeqxsngjalwzgdtwafwf\n",
      "Attempting Caesar Shift of:  12  of 26\n",
      "sxgtfxuetvdhnmphkkbxwmatmhnkvbiaxkblmhhpxtdhggxqmfxlltzxlpbmvamhobzxgxkxvbiaxkdxrphkwblmaxabwwxglrfuhehywxtmabgfrytohkbmxaheuxbgxg\n",
      "Attempting Caesar Shift of:  13  of 26\n",
      "tyhugyvfuweionqillcyxnbuniolwcjbylcmniiqyueihhyrngymmuaymqcnwbnipcayhylywcjbyleysqilxcmnbybcxxyhmsgvifizxyunbchgszupilcnybifvychyh\n",
      "Attempting Caesar Shift of:  14  of 26\n",
      "uzivhzwgvxfjporjmmdzyocvojpmxdkczmdnojjrzvfjiizsohznnvbznrdoxcojqdbzizmzxdkczmfztrjmydnoczcdyyzinthwjgjayzvocdihtavqjmdozcjgwzdizi\n",
      "Attempting Caesar Shift of:  15  of 26\n",
      "vajwiaxhwygkqpsknneazpdwpkqnyeldaneopkksawgkjjatpiaoowcaosepydpkrecajanayeldangausknzeopdadezzajouixkhkbzawpdejiubwrknepadkhxaejaj\n",
      "Attempting Caesar Shift of:  16  of 26\n",
      "wbkxjbyixzhlrqtloofbaqexqlrozfmebofpqlltbxhlkkbuqjbppxdbptfqzeqlsfdbkbobzfmebohbvtloafpqebefaabkpvjylilcabxqefkjvcxslofqbeliybfkbk\n",
      "Attempting Caesar Shift of:  17  of 26\n",
      "xclykczjyaimsrumppgcbrfyrmspagnfcpgqrmmucyimllcvrkcqqyecqugrafrmtgeclcpcagnfcpicwumpbgqrfcfgbbclqwkzmjmdbcyrfglkwdytmpgrcfmjzcglcl\n",
      "Attempting Caesar Shift of:  18  of 26\n",
      "ydmzldakzbjntsvnqqhdcsgzsntqbhogdqhrsnnvdzjnmmdwsldrrzfdrvhsbgsnuhfdmdqdbhogdqjdxvnqchrsgdghccdmrxlanknecdzsghmlxezunqhsdgnkadhmdm\n",
      "Attempting Caesar Shift of:  19  of 26\n",
      "zenameblackoutworriedthatourcipheristooweakonnextmessageswitchtovigenerecipherkeywordisthehiddensymbolofdeathinmyfavoriteholbeinen\n",
      "Attempting Caesar Shift of:  20  of 26\n",
      "afobnfcmbdlpvuxpssjfeuibupvsdjqifsjtuppxfblpoofyunfttbhftxjudiupwjhfofsfdjqifslfzxpsejtuifijeefotzncpmpgefbuijonzgbwpsjufipmcfjofo\n",
      "Attempting Caesar Shift of:  21  of 26\n",
      "bgpcogdncemqwvyqttkgfvjcvqwtekrjgtkuvqqygcmqppgzvoguuciguykvejvqxkigpgtgekrjgtmgayqtfkuvjgjkffgpuaodqnqhfgcvjkpoahcxqtkvgjqndgkpgp\n",
      "Attempting Caesar Shift of:  22  of 26\n",
      "chqdpheodfnrxwzruulhgwkdwrxuflskhulvwrrzhdnrqqhawphvvdjhvzlwfkwryljhqhuhflskhunhbzruglvwkhklgghqvbperorighdwklqpbidyrulwhkroehlqhq\n",
      "Attempting Caesar Shift of:  23  of 26\n",
      "direqifpegosyxasvvmihxlexsyvgmtlivmwxssaieosrribxqiwwekiwamxglxszmkirivigmtlivoicasvhmwxlilmhhirwcqfspsjhiexlmrqcjezsvmxilspfimrir\n",
      "Attempting Caesar Shift of:  24  of 26\n",
      "ejsfrjgqfhptzybtwwnjiymfytzwhnumjwnxyttbjfptssjcyrjxxfljxbnyhmytanljsjwjhnumjwpjdbtwinxymjmniijsxdrgtqtkijfymnsrdkfatwnyjmtqgjnsjs\n",
      "Attempting Caesar Shift of:  25  of 26\n",
      "fktgskhrgiquazcuxxokjzngzuaxiovnkxoyzuuckgquttkdzskyygmkycozinzubomktkxkiovnkxqkecuxjoyznknojjktyeshuruljkgznotselgbuxozknurhkotkt\n"
     ]
    }
   ],
   "source": [
    "for i in range(1,26):\n",
    "    print(\"Attempting Caesar Shift of: \",i,\" of 26\")\n",
    "    decrypted_message = str()\n",
    "    for j in range(0,(len(initial_text)-1)):\n",
    "        encrypted_letter = initial_text[j]\n",
    "        alphabet_postition = string.ascii_lowercase.index(encrypted_letter)\n",
    "        if alphabet_postition+i > 25:\n",
    "            alphabet_postition = alphabet_postition - 26\n",
    "            decrypted_letter = english_alphabet[alphabet_postition+i]\n",
    "        decrypted_letter = english_alphabet[alphabet_postition+i]\n",
    "        decrypted_message = decrypted_message + decrypted_letter\n",
    "    print(decrypted_message)"
   ]
  },
  {
   "cell_type": "code",
   "execution_count": 71,
   "metadata": {
    "collapsed": false
   },
   "outputs": [],
   "source": [
    "# WHICH WAS THE CORRECT SHIFT:\n",
    "correct_shift = 19"
   ]
  },
  {
   "cell_type": "code",
   "execution_count": 73,
   "metadata": {
    "collapsed": false
   },
   "outputs": [
    {
     "name": "stdout",
     "output_type": "stream",
     "text": [
      "The Decrypted Message is:  zenameblackoutworriedthatourcipheristooweakonnextmessageswitchtovigenerecipherkeywordisthehiddensymbolofdeathinmyfavoriteholbeinen\n"
     ]
    }
   ],
   "source": [
    "decrypted_message = str()\n",
    "for j in range(0,(len(initial_text)-1)):\n",
    "    encrypted_letter = initial_text[j]\n",
    "    alphabet_postition = string.ascii_lowercase.index(encrypted_letter)\n",
    "    if alphabet_postition+i > 25:\n",
    "        alphabet_postition = alphabet_postition - 26\n",
    "        decrypted_letter = english_alphabet[alphabet_postition+correct_shift]\n",
    "    decrypted_letter = english_alphabet[alphabet_postition+correct_shift]\n",
    "    decrypted_message = decrypted_message + decrypted_letter\n",
    "print(\"The Decrypted Message is: \",decrypted_message)"
   ]
  },
  {
   "cell_type": "code",
   "execution_count": 69,
   "metadata": {
    "collapsed": false
   },
   "outputs": [
    {
     "data": {
      "text/plain": [
       "'y'"
      ]
     },
     "execution_count": 69,
     "metadata": {},
     "output_type": "execute_result"
    }
   ],
   "source": [
    "initial_text[j]"
   ]
  },
  {
   "cell_type": "code",
   "execution_count": null,
   "metadata": {
    "collapsed": true
   },
   "outputs": [],
   "source": []
  }
 ],
 "metadata": {
  "kernelspec": {
   "display_name": "Python 3",
   "language": "python",
   "name": "python3"
  },
  "language_info": {
   "codemirror_mode": {
    "name": "ipython",
    "version": 3
   },
   "file_extension": ".py",
   "mimetype": "text/x-python",
   "name": "python",
   "nbconvert_exporter": "python",
   "pygments_lexer": "ipython3",
   "version": "3.5.2"
  }
 },
 "nbformat": 4,
 "nbformat_minor": 1
}
